{
 "cells": [
  {
   "cell_type": "markdown",
   "id": "e2c0391b",
   "metadata": {},
   "source": [
    "Import da biblioteca struct, padrão do python"
   ]
  },
  {
   "cell_type": "code",
   "execution_count": 24,
   "id": "d1f01045",
   "metadata": {},
   "outputs": [],
   "source": [
    "import struct"
   ]
  },
  {
   "cell_type": "markdown",
   "id": "17de5496",
   "metadata": {},
   "source": [
    "Função para carregar o arquivo .BMP e ler as suas informações"
   ]
  },
  {
   "cell_type": "code",
   "execution_count": 25,
   "id": "2f7ece46",
   "metadata": {},
   "outputs": [],
   "source": [
    "def carregar_foto(caminho_arquivo):\n",
    "    try:\n",
    "        with open(caminho_arquivo, 'rb') as f:\n",
    "            file_type_bytes = f.read(2)\n",
    "            if file_type_bytes != b'BM':\n",
    "                raise ValueError(\"Não é um arquivo BMP válido (assinatura 'BM' ausente).\")\n",
    "            \n",
    "            rest_of_file_header_bytes = f.read(12) \n",
    "            bfSize, bfReserved1, bfReserved2, bfOffBits = struct.unpack('<IHH I', rest_of_file_header_bytes)\n",
    "\n",
    "            file_header_bytes = file_type_bytes + rest_of_file_header_bytes\n",
    "\n",
    "            info_header_bytes = f.read(40)\n",
    "            (\n",
    "                biSize, biWidth, biHeight, biPlanes, biBitCount,\n",
    "                biCompression, biSizeImage, biXPelsPerMeter,\n",
    "                biYPelsPerMeter, biClrUsed, biClrImportant\n",
    "            ) = struct.unpack('<IIIHHIIIIII', info_header_bytes)\n",
    "\n",
    "            if biBitCount != 24:\n",
    "                raise ValueError(f\"Apenas BMPs de 24 bits são suportados. Encontrado: {biBitCount} bpp.\")\n",
    "            \n",
    "            f.seek(bfOffBits)\n",
    "\n",
    "            pixel_data = []\n",
    "            bytes_per_pixel = 3\n",
    "            row_padding = (4 - (biWidth * bytes_per_pixel) % 4) % 4\n",
    "\n",
    "            for y in range(biHeight):\n",
    "                row_pixels = []\n",
    "                for x in range(biWidth):\n",
    "                    b, g, r = struct.unpack('<BBB', f.read(3))\n",
    "                    row_pixels.append((r, g, b))\n",
    "                \n",
    "                f.read(row_padding)\n",
    "                pixel_data.append(row_pixels)\n",
    "            \n",
    "            pixel_data.reverse()\n",
    "\n",
    "            return pixel_data, biWidth, biHeight, file_header_bytes, info_header_bytes\n",
    "\n",
    "    except FileNotFoundError:\n",
    "        return None, None, None, None, None\n",
    "    except ValueError as e:\n",
    "        return None, None, None, None, None\n",
    "    except struct.error as e:\n",
    "        return None, None, None, None, None\n",
    "    "
   ]
  },
  {
   "cell_type": "markdown",
   "id": "5790c020",
   "metadata": {},
   "source": [
    "Função para salvar as informações e o arquivo .BMP"
   ]
  },
  {
   "cell_type": "code",
   "execution_count": 26,
   "id": "97de0bef",
   "metadata": {},
   "outputs": [],
   "source": [
    "def salvar_bmp(caminho_arquivo, pixel_data, width, height, original_file_header, original_info_header):\n",
    "    try:\n",
    "        with open(caminho_arquivo, 'wb') as f:\n",
    "            pixels_to_write = list(pixel_data)\n",
    "            pixels_to_write.reverse() \n",
    "\n",
    "            bytes_per_pixel = 3\n",
    "            row_padding = (4 - (width * bytes_per_pixel) % 4) % 4\n",
    "            image_data_size = (width * bytes_per_pixel + row_padding) * height\n",
    "            \n",
    "            _bfSize, _bfReserved1, _bfReserved2, _bfOffBits = struct.unpack('<IHH I', original_file_header[2:14])\n",
    "            \n",
    "            new_file_size = _bfOffBits + image_data_size\n",
    "            \n",
    "            new_file_header = bytearray(original_file_header) \n",
    "            \n",
    "            new_file_header[2:6] = struct.pack('<I', new_file_size)\n",
    "            \n",
    "            new_file_header[10:14] = struct.pack('<I', _bfOffBits)\n",
    "\n",
    "            f.write(new_file_header)\n",
    "            \n",
    "            f.write(original_info_header) \n",
    "\n",
    "            current_pos_after_headers = len(new_file_header) + len(original_info_header)\n",
    "            if current_pos_after_headers < _bfOffBits:\n",
    "                f.write(b'\\x00' * (_bfOffBits - current_pos_after_headers))\n",
    "\n",
    "            for y in range(height):\n",
    "                for x in range(width):\n",
    "                    r, g, b = pixels_to_write[y][x]\n",
    "                    f.write(struct.pack('<BBB', b, g, r))\n",
    "                \n",
    "                f.write(b'\\x00' * row_padding)\n",
    "\n",
    "            print(f\"Imagem salva em '{caminho_arquivo}'.\")\n",
    "\n",
    "    except Exception as e:\n",
    "        print(f\"Erro ao salvar BMP: {e}\")\n",
    "\n"
   ]
  },
  {
   "cell_type": "code",
   "execution_count": 27,
   "id": "e2482a8a",
   "metadata": {},
   "outputs": [
    {
     "name": "stdout",
     "output_type": "stream",
     "text": [
      "Imagem salva em 'lena_grayscale.bmp'.\n",
      "Imagem salva em 'lena_bw.bmp'.\n"
     ]
    }
   ],
   "source": [
    "if __name__ == \"__main__\":\n",
    "    \n",
    "    input_file = \"lena.bmp\" \n",
    "    output_grayscale_file = \"lena_grayscale.bmp\"\n",
    "    output_bw_file = \"lena_bw.bmp\"\n",
    "\n",
    "    image_data, width, height, file_header, info_header = carregar_foto(input_file)\n",
    "\n",
    "    if image_data is None:\n",
    "        print(\"Não foi possível carregar a imagem. Encerrando.\")\n",
    "    else:        \n",
    "        # 1. Converter para Tons de Cinza\n",
    "        grayscale_image_data = []\n",
    "        for y in range(height):\n",
    "            row_pixels = []\n",
    "            for x in range(width):\n",
    "                r, g, b = image_data[y][x]\n",
    "                gray_value = int(0.299 * r + 0.587 * g + 0.114 * b)\n",
    "                if gray_value < 0: gray_value = 0\n",
    "                elif gray_value > 255: gray_value = 255\n",
    "                row_pixels.append((gray_value, gray_value, gray_value))\n",
    "            grayscale_image_data.append(row_pixels)\n",
    "\n",
    "        salvar_bmp(output_grayscale_file, grayscale_image_data, width, height, file_header, info_header)\n",
    "\n",
    "        # 2. Converter para Preto e Branco\n",
    "        bw_image_data = []\n",
    "        threshold = 128 \n",
    "        for y in range(height):\n",
    "            row_pixels = []\n",
    "            for x in range(width):\n",
    "                gray_value = grayscale_image_data[y][x][0] \n",
    "                if gray_value >= threshold:\n",
    "                    row_pixels.append((255, 255, 255)) \n",
    "                else:\n",
    "                    row_pixels.append((0, 0, 0))     \n",
    "            bw_image_data.append(row_pixels)\n",
    "\n",
    "        salvar_bmp(output_bw_file, bw_image_data, width, height, file_header, info_header)"
   ]
  },
  {
   "cell_type": "code",
   "execution_count": null,
   "id": "04fc4d7d",
   "metadata": {},
   "outputs": [],
   "source": []
  }
 ],
 "metadata": {
  "kernelspec": {
   "display_name": "Python 3",
   "language": "python",
   "name": "python3"
  },
  "language_info": {
   "codemirror_mode": {
    "name": "ipython",
    "version": 3
   },
   "file_extension": ".py",
   "mimetype": "text/x-python",
   "name": "python",
   "nbconvert_exporter": "python",
   "pygments_lexer": "ipython3",
   "version": "3.10.4"
  }
 },
 "nbformat": 4,
 "nbformat_minor": 5
}
